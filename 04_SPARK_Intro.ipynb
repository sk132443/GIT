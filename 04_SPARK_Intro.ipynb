{
 "cells": [
  {
   "cell_type": "markdown",
   "id": "1020207c-b542-468a-a885-00d6bbdb7270",
   "metadata": {},
   "source": [
    "# Apache Spark intro\n",
    "\n",
    "\n",
    "Apache Spark is a general-purpose, in-memory computing engine. Spark can be used with Hadoop, Yarn and other Big Data components to harness the power of Spark and improve the performance of your applications. It provides high-level APIs in Scala, Java, Python, R, and SQL.\n",
    "\n",
    "**Spark Architecture**\n",
    "\n",
    "Apache Spark works in a master-slave architecture where the master is called “Driver” and slaves are called “Workers”. The starting point of your Spark application is `sc`, a Spark Context Class instance. It runs inside the driver.\n",
    "\n",
    "![](https://miro.medium.com/v2/resize:fit:1192/0*XzNeTtwEgIy5yWR_)\n",
    "\n",
    "\n",
    "![](https://miro.medium.com/v2/resize:fit:1266/0*-PltnPR9row8iUDo)\n",
    "\n",
    "**Apache Spark**: \n",
    "Sometimes also called Spark Core. The Spark Core implementation is a RDD (Resilient Distributed Dataset) which is a collection of distributed data across different nodes of the cluster that are processed in parallel.\n",
    "\n",
    "\n",
    "**Spark SQL**: \n",
    "The implementation here is DataFrame, which is a relational representation of the data. It provides functions with SQL like capabilities. Also, we can write SQL like queries for our data analysis.\n",
    "\n",
    "\n",
    "**Spark Streaming**: \n",
    "The implementation provided by this library is D-stream, also called Discretized Stream. This library provides capabilities to process/transform data in near real-time.\n",
    "\n",
    "\n",
    "**MLlib**: \n",
    "This is a Machine Learning library with commonly used algorithms including collaborative filtering, classification, clustering, and regression.\n",
    "\n",
    "**GraphX**: \n",
    "This library helps us to process Graphs, solving various problems (like Page Rank, Connected Components, etc) using Graph Theory.\n",
    "\n",
    "\n",
    "Let’s dig a little deeper into Apache Spark (Spark Core), starting with RDD.\n",
    "\n",
    "\n"
   ]
  },
  {
   "cell_type": "code",
   "execution_count": null,
   "id": "eb327a64-0391-448e-9867-57c101e02675",
   "metadata": {
    "tags": []
   },
   "outputs": [],
   "source": [
    "from pyspark import SparkContext"
   ]
  },
  {
   "cell_type": "code",
   "execution_count": null,
   "id": "23b65c12-4ace-42b6-8ff4-cc1d4c8d4ca9",
   "metadata": {
    "tags": []
   },
   "outputs": [],
   "source": [
    "sc = SparkContext(appName=\"myAppName\")"
   ]
  },
  {
   "cell_type": "code",
   "execution_count": null,
   "id": "f53bc041-7995-4972-b51c-6a6fee3386a8",
   "metadata": {
    "tags": []
   },
   "outputs": [],
   "source": [
    "sc"
   ]
  },
  {
   "cell_type": "markdown",
   "id": "7c170258-541d-4dc0-ba69-73432a3112b5",
   "metadata": {},
   "source": [
    "### RDD\n",
    "\n",
    "- Resilient Distributed Dataset\n",
    "- Podstawowa abstrakcja oraz rdzeń Sparka\n",
    "- Obsługiwane przez dwa rodzaje operacji:\n",
    "    - Akcje:\n",
    "        - operacje uruchamiająceegzekucję transformacji na RDD\n",
    "        - przyjmują RDD jako input i zwracają wynik NIE będący RDD\n",
    "    - Transformacje:\n",
    "        - leniwe operacje\n",
    "        - przyjmują RDD i zwracają RDD\n",
    "\n",
    "- In-Memory - dane RDD przechowywane w pamięci\n",
    "- Immutable \n",
    "- Lazy evaluated\n",
    "- Parallel - przetwarzane równolegle\n",
    "- Partitioned - rozproszone \n",
    "\n",
    "## WAŻNE informacje !\n",
    "\n",
    "Ważne do zrozumienia działania SPARKA:\n",
    "\n",
    "Term                   |Definition\n",
    "----                   |-------\n",
    "RDD                    |Resilient Distributed Dataset\n",
    "Transformation         |Spark operation that produces an RDD\n",
    "Action                 |Spark operation that produces a local object\n",
    "Spark Job              |Sequence of transformations on data with a final action\n",
    "\n",
    "\n",
    "Dwie podstawowe metody tworzenia RDD:\n",
    "\n",
    "Method                      |Result\n",
    "----------                               |-------\n",
    "`sc.parallelize(array)`                  |Create RDD of elements of array (or list)\n",
    "`sc.textFile(path/to/file)`                      |Create RDD of lines from file\n",
    "\n",
    "Podstawowe transformacje\n",
    "\n",
    "Transformation Example                          |Result\n",
    "----------                               |-------\n",
    "`filter(lambda x: x % 2 == 0)`           |Discard non-even elements\n",
    "`map(lambda x: x * 2)`                   |Multiply each RDD element by `2`\n",
    "`map(lambda x: x.split())`               |Split each string into words\n",
    "`flatMap(lambda x: x.split())`           |Split each string into words and flatten sequence\n",
    "`sample(withReplacement=True,0.25)`      |Create sample of 25% of elements with replacement\n",
    "`union(rdd)`                             |Append `rdd` to existing RDD\n",
    "`distinct()`                             |Remove duplicates in RDD\n",
    "`sortBy(lambda x: x, ascending=False)`   |Sort elements in descending order\n",
    "\n",
    "Podstawowe akcje \n",
    "\n",
    "Action                             |Result\n",
    "----------                             |-------\n",
    "`collect()`                            |Convert RDD to in-memory list \n",
    "`take(3)`                              |First 3 elements of RDD \n",
    "`top(3)`                               |Top 3 elements of RDD\n",
    "`takeSample(withReplacement=True,3)`   |Create sample of 3 elements with replacement\n",
    "`sum()`                                |Find element sum (assumes numeric elements)\n",
    "`mean()`                               |Find element mean (assumes numeric elements)\n",
    "`stdev()`                              |Find element deviation (assumes numeric elements)"
   ]
  },
  {
   "cell_type": "code",
   "execution_count": null,
   "id": "e6289576-3208-4807-b05d-00167fc53f3d",
   "metadata": {
    "tags": []
   },
   "outputs": [],
   "source": [
    "keywords = ['Books', 'DVD', 'CD', 'PenDrive']\n",
    "key_rdd = sc.parallelize(keywords)\n",
    "key_rdd.collect()"
   ]
  },
  {
   "cell_type": "code",
   "execution_count": null,
   "id": "6ff6d7d3-5aa2-4080-a3a2-f25e10147c0c",
   "metadata": {
    "tags": []
   },
   "outputs": [],
   "source": [
    "key_small = key_rdd.map(lambda x: x.lower()) # transformacja"
   ]
  },
  {
   "cell_type": "code",
   "execution_count": null,
   "id": "f2cc9d27-90e0-4648-9aef-2e406db50811",
   "metadata": {
    "tags": []
   },
   "outputs": [],
   "source": [
    "key_small.collect() # akcja "
   ]
  },
  {
   "cell_type": "code",
   "execution_count": null,
   "id": "21d8a4f2-f1a7-4b17-8c54-6ebdeabf7a93",
   "metadata": {
    "tags": []
   },
   "outputs": [],
   "source": [
    "sc.stop()"
   ]
  },
  {
   "cell_type": "markdown",
   "id": "47e567a0-e7df-42c3-af84-b69775435b1e",
   "metadata": {},
   "source": [
    "**Spark’s core data structure**\n",
    "\n",
    "✅: A low level object that lets Spark work its magic by splitting data across multiple nodes in the cluster.\n",
    "\n",
    "❌: However, RDDs are hard to work with directly, so we’ll be using the Spark DataFrame abstraction built on top of RDDs."
   ]
  },
  {
   "cell_type": "markdown",
   "id": "4b2226e6-dceb-4e33-83a2-f586f296d69b",
   "metadata": {
    "tags": []
   },
   "source": [
    "## MAP REDUCE"
   ]
  },
  {
   "cell_type": "code",
   "execution_count": null,
   "id": "19b4c64b-1ed1-4080-9a8a-8e262776b63a",
   "metadata": {
    "tags": []
   },
   "outputs": [],
   "source": [
    "from pyspark.sql import SparkSession\n",
    "\n",
    "spark = SparkSession.builder.appName(\"new\").getOrCreate()\n",
    "\n",
    "# otrzymanie obiektu SparkContext\n",
    "sc = spark.sparkContext"
   ]
  },
  {
   "cell_type": "code",
   "execution_count": null,
   "id": "c8b73932-1fd1-4f79-8d07-1c16f8523450",
   "metadata": {
    "tags": []
   },
   "outputs": [],
   "source": [
    "import re\n",
    "# Word Count on RDD \n",
    "sc.textFile(\"MobyDick.txt\") \\\n",
    ".map(lambda x: re.findall(r\"[a-z']+\", x.lower())) \\\n",
    ".flatMap(lambda x: [(y, 1) for y in x]) \\\n",
    ".reduceByKey(lambda x,y: x + y) \\\n",
    ".collect()"
   ]
  },
  {
   "cell_type": "code",
   "execution_count": null,
   "id": "496f4d7f-fc13-46be-9410-0bdba1890d99",
   "metadata": {
    "tags": []
   },
   "outputs": [],
   "source": [
    "spark.stop()"
   ]
  },
  {
   "cell_type": "markdown",
   "id": "f56b1bf7-8f2d-4b8b-84ab-2759919fd028",
   "metadata": {},
   "source": [
    "## SPARK STREAMING\n",
    "\n",
    "Część Sparka odpowiedzialna za przetwarzanie danych w czasie rzeczywistym. \n",
    "\n",
    "\n",
    "<img src=\"https://spark.apache.org/docs/latest/img/streaming-arch.png\"/>\n",
    "\n",
    "Dane mogą pochodzić z różnych źródeł np. sokety TCP, Kafka, etc. \n",
    "Korzystając z poznanych już metod `map, reduce, join, oraz window` można w łatwy sposób generować przetwarzanie strumienia tak jaby był to nieskończony ciąg RDD. \n",
    "Ponadto nie ma problemu aby wywołać na strumieniu operacje ML czy wykresy. \n",
    "\n",
    "Cała procedura przedstawia się następująco: \n",
    "\n",
    "<img src=\"https://spark.apache.org/docs/latest/img/streaming-flow.png\"/>\n",
    "\n",
    "SPARK STREAMING w tej wersji wprowadza abstrakcje zwaną `discretized stream` *DStream* (reprezentuje sekwencję RDD).\n",
    "\n",
    "Operacje na DStream można wykonywać w API JAVA, SCALA, Python, R (nie wszystkie możliwości są dostępne dla Pythona). \n"
   ]
  },
  {
   "cell_type": "markdown",
   "id": "c447df48-88db-4585-b6ac-3ddc1ee80d51",
   "metadata": {},
   "source": [
    "Spark Streaming potrzebuje minium 2 rdzenie.\n",
    "\n",
    "----\n",
    "- **StreamingContext(sparkContext, batchDuration)** - reprezentuje połączenie z klastrem i służy do tworzenia DStreamów, `batchDuration` wskazuje na granularność batch'y (w sekundach)\n",
    "- **socketTextStream(hostname, port)** - tworzy DStream na podstawie danych napływających ze wskazanego źródła TCP\n",
    "- **flatMap(f), map(f), reduceByKey(f)** - działają analogicznie jak w przypadku RDD z tym że tworzą nowe DStream'y\n",
    "- **pprint(n)** - printuje pierwsze `n` (domyślnie 10) elementów z każdego RDD wygenerowanego w DStream'ie\n",
    "- **StreamingContext.start()** - rozpoczyna działania na strumieniach\n",
    "- **StreamingContext.awaitTermination(timeout)** - oczekuje na zakończenie działań na strumieniach\n",
    "- **StreamingContext.stop(stopSparkContext, stopGraceFully)** - kończy działania na strumieniach\n",
    "\n",
    "Obiekt StreamingContext można wygenerować za pomocą obiektu SparkContext.\n",
    "\n",
    "\n",
    "<img src=\"https://spark.apache.org/docs/latest/img/streaming-dstream.png\"/>\n",
    "\n",
    "<img src=\"https://spark.apache.org/docs/latest/img/streaming-dstream-ops.png\"/>"
   ]
  },
  {
   "cell_type": "code",
   "execution_count": null,
   "id": "0ef08b5b-573d-4c5e-bcc0-46a3eb879aeb",
   "metadata": {
    "tags": []
   },
   "outputs": [],
   "source": [
    "import re\n",
    "from pyspark import SparkContext\n",
    "from pyspark.streaming import StreamingContext\n",
    "\n",
    "# Create a local StreamingContext with two working thread\n",
    "# and batch interval of 1 second\n",
    "\n",
    "sc = SparkContext(\"local[2]\", \"NetworkWordCount2\")\n",
    "ssc = StreamingContext(sc, 2)\n",
    "\n",
    "# DStream\n",
    "lines = ssc.socketTextStream(\"localhost\", 9998)\n",
    "\n",
    "# podziel każdą linię na wyrazy\n",
    "# DStream jest mapowany na kolejny DStream\n",
    "# words = lines.flatMap(lambda line: line.split(\" \"))\n",
    "\n",
    "words = lines.flatMap(lambda x: re.findall(r\"[a-z']+\", x.lower()))\n",
    "\n",
    "# zliczmy każdy wyraz w każdym batchu\n",
    "# DStream jest mapowany na kolejny DStream\n",
    "# pairs = words.map(lambda word: (word, 1))\n",
    "\n",
    "# DStream jest mapowany na kolejny DStream                  \n",
    "# wordCounts = pairs.reduceByKey(lambda x, y: x + y)\n",
    "\n",
    "wordCounts = words.map(lambda word: (word,1)).reduceByKey(lambda x,y: x+y)\n",
    "# wydrukuj pierwszy element\n",
    "wordCounts.pprint()"
   ]
  },
  {
   "cell_type": "code",
   "execution_count": null,
   "id": "21cefe88-f6ea-4f1a-9fa8-4f4ba7490318",
   "metadata": {
    "tags": []
   },
   "outputs": [],
   "source": [
    "# before start run a stream data\n",
    "ssc.start()             # Start the computation\n",
    "ssc.awaitTermination()\n",
    "ssc.stop()\n",
    "sc.stop()"
   ]
  },
  {
   "cell_type": "code",
   "execution_count": null,
   "id": "338377f3-306b-4d98-b96e-8e2b405038cb",
   "metadata": {},
   "outputs": [],
   "source": [
    "# w konsoli linuxowej netcat Nmap for windows\n",
    "!nc -lk 9998"
   ]
  },
  {
   "cell_type": "code",
   "execution_count": null,
   "id": "d4f3cf52-6309-4d19-b8b5-edb13eda3847",
   "metadata": {
    "tags": []
   },
   "outputs": [],
   "source": [
    "%%file start_stream.py\n",
    "\n",
    "from socket import *\n",
    "import time\n",
    "\n",
    "rdd = list()\n",
    "with open(\"MobyDick_full.txt\", 'r') as ad:\n",
    "    for line in ad:\n",
    "        rdd.append(line)\n",
    "\n",
    "HOST = 'localhost'\n",
    "PORT = 9998\n",
    "ADDR = (HOST, PORT)\n",
    "tcpSock = socket(AF_INET, SOCK_STREAM)\n",
    "tcpSock.bind(ADDR)\n",
    "tcpSock.listen(5)\n",
    "\n",
    "\n",
    "while True:\n",
    "    c, addr = tcpSock.accept()\n",
    "    print('got connection')\n",
    "    for line in rdd:\n",
    "        try:\n",
    "            c.send(line.encode())\n",
    "            time.sleep(1)\n",
    "        except:\n",
    "            break\n",
    "    c.close()\n",
    "    print('disconnected')\n"
   ]
  },
  {
   "cell_type": "markdown",
   "id": "b6a2ccc9-3683-4881-bce0-df69edcf8704",
   "metadata": {},
   "source": [
    "## nowe podejscie\n",
    "\n",
    "Designed to behave a lot like a SQL table\n",
    "\n",
    "✅:\n",
    "- easier to understand,\n",
    "- Operations using DataFrames are automatically optimized\n",
    "- When using RDDs, it’s up to the data scientist to figure out the right way to optimize the query, but the DataFrame implementation has much of this optimization built in!"
   ]
  },
  {
   "cell_type": "code",
   "execution_count": null,
   "id": "202f5db1-5f89-48f9-8c36-bce935fb6140",
   "metadata": {
    "tags": []
   },
   "outputs": [],
   "source": [
    "from pyspark.sql import SparkSession"
   ]
  },
  {
   "cell_type": "code",
   "execution_count": null,
   "id": "f7412740-6656-4e45-9b92-79f536443ebe",
   "metadata": {
    "tags": []
   },
   "outputs": [],
   "source": [
    "spark = SparkSession.builder.getOrCreate()"
   ]
  },
  {
   "cell_type": "code",
   "execution_count": null,
   "id": "846d951c-2e03-4945-92a4-903a6e3b43a8",
   "metadata": {
    "tags": []
   },
   "outputs": [],
   "source": [
    "spark"
   ]
  },
  {
   "cell_type": "markdown",
   "id": "d818dbbe-bdd9-4835-a0a4-1c891657f7f8",
   "metadata": {
    "tags": []
   },
   "source": [
    "### Przygotowanie danych\n",
    "\n",
    "```bash\n",
    "mkdir data\n",
    "cd data\n",
    "curl -L -o donation.zip http://bit.ly/1Aoywaq\n",
    "unzip donation.zip\n",
    "unzip 'block_*.zip'\n",
    "\n",
    "```"
   ]
  },
  {
   "cell_type": "code",
   "execution_count": null,
   "id": "178aaf0e-bebe-4ff5-bb1c-9f0dbad99eab",
   "metadata": {
    "tags": []
   },
   "outputs": [],
   "source": [
    "# create dataframe \n",
    "prev = spark.read.csv(\"data/block*.csv\")"
   ]
  },
  {
   "cell_type": "code",
   "execution_count": null,
   "id": "8d6bb698-1ced-4793-963c-a31d00cd3b76",
   "metadata": {
    "tags": []
   },
   "outputs": [],
   "source": [
    "prev"
   ]
  },
  {
   "cell_type": "code",
   "execution_count": null,
   "id": "41c058c5-bd1b-481b-bf46-5a65643f9d08",
   "metadata": {
    "tags": []
   },
   "outputs": [],
   "source": [
    "prev.show(2)"
   ]
  },
  {
   "cell_type": "code",
   "execution_count": null,
   "id": "365c9ee8-cae5-48d1-a883-b069efc16547",
   "metadata": {
    "tags": []
   },
   "outputs": [],
   "source": [
    "prev.show()"
   ]
  },
  {
   "cell_type": "code",
   "execution_count": null,
   "id": "20a0dd84-da97-4b24-9e1c-74e6ef171b90",
   "metadata": {
    "tags": []
   },
   "outputs": [],
   "source": [
    "# dodatkowe opcje z header i wartości null \n",
    "parsed = spark.read.option(\"header\", \"true\")\\\n",
    ".option(\"nullValue\", \"?\")\\\n",
    ".option(\"inferSchema\", \"true\")\\\n",
    ".csv(\"data/block*.csv\")"
   ]
  },
  {
   "cell_type": "code",
   "execution_count": null,
   "id": "8a87eb67-cbf7-496f-8738-71669a4a6fba",
   "metadata": {
    "tags": []
   },
   "outputs": [],
   "source": [
    "parsed.show(5)"
   ]
  },
  {
   "cell_type": "code",
   "execution_count": null,
   "id": "65c680d3-359c-44a7-8b2b-8af59796a2bb",
   "metadata": {
    "tags": []
   },
   "outputs": [],
   "source": [
    "parsed.printSchema()"
   ]
  },
  {
   "cell_type": "markdown",
   "id": "112a1cf3-1fa8-4f7e-b825-d012c95d5f14",
   "metadata": {},
   "source": [
    "## inne formaty \n",
    "\n",
    "- parquet\n",
    "- orc\n",
    "- json\n",
    "- jdbc\n",
    "- avro\n",
    "- yrxy\n",
    "- image\n",
    "- libsvm\n",
    "- binary\n",
    "- xml"
   ]
  },
  {
   "cell_type": "code",
   "execution_count": null,
   "id": "1d3140ad-3878-4532-bc9e-50d7769c275b",
   "metadata": {
    "tags": []
   },
   "outputs": [],
   "source": [
    "parsed.write.format(\"parquet\").save(\"data/block2.parquet\")"
   ]
  },
  {
   "cell_type": "code",
   "execution_count": null,
   "id": "14a12cbf-1008-4ef0-9e71-de98ee5956ee",
   "metadata": {
    "tags": []
   },
   "outputs": [],
   "source": [
    "t = spark.read.format(\"parquet\").load(\"data/block.parquet\")"
   ]
  },
  {
   "cell_type": "code",
   "execution_count": null,
   "id": "1cf44170-ea5d-49ca-9c56-557206cb6400",
   "metadata": {
    "tags": []
   },
   "outputs": [],
   "source": [
    "t.show(2)"
   ]
  },
  {
   "cell_type": "code",
   "execution_count": null,
   "id": "268c04e2-797b-4efc-91c6-3b33b8bc6887",
   "metadata": {
    "tags": []
   },
   "outputs": [],
   "source": [
    "spark.stop()"
   ]
  },
  {
   "cell_type": "markdown",
   "id": "e82dc365-1b26-4926-953e-6c6bd0dc4b10",
   "metadata": {},
   "source": [
    "## schematy danych "
   ]
  },
  {
   "cell_type": "code",
   "execution_count": null,
   "id": "f50be2db-b995-4151-a874-f08bb0830acf",
   "metadata": {
    "tags": []
   },
   "outputs": [],
   "source": [
    "from pyspark.sql.types import StructType, StructField, StringType, DoubleType, IntegerType\n",
    "\n",
    "schema = StructType([\n",
    "  StructField(\"Date\", StringType(), True),\n",
    "  StructField(\"Open\", DoubleType(), True),\n",
    "  StructField(\"High\", DoubleType(), True),\n",
    "  StructField(\"Low\", DoubleType(), True),\n",
    "  StructField(\"Close\", DoubleType(), True),\n",
    "  StructField(\"Volume\", IntegerType(), True),\n",
    "  StructField(\"Name\", StringType(), True)\n",
    "])\n",
    "\n",
    "\n",
    "ddlSchemaStr = \"\"\"Date STRING, Open FLOAT, High FLOAT, \n",
    "Low FLOAT, Close FLOAT, Voulme INT, Name String \n",
    "\"\"\""
   ]
  },
  {
   "cell_type": "code",
   "execution_count": null,
   "id": "f10c3588-1ee7-49b1-9845-bb221fc4dd6e",
   "metadata": {
    "tags": []
   },
   "outputs": [],
   "source": [
    "from pyspark.sql import SparkSession\n",
    "\n",
    "spark = SparkSession.builder.getOrCreate()\n",
    "\n",
    "df = spark.read.option(\"header\", True)\\\n",
    ".csv(\"data/stocks/AAPL_2006-01-01_to_2018-01-01.csv\", schema=ddlSchemaStr)\n",
    "\n",
    "df.show(5)"
   ]
  },
  {
   "cell_type": "markdown",
   "id": "3c5a346b-4416-4132-a2a1-01b254722313",
   "metadata": {},
   "source": [
    "## dane niustrukturyzowane"
   ]
  },
  {
   "cell_type": "code",
   "execution_count": null,
   "id": "255a8136-c4ef-475d-816c-b2b648cfe665",
   "metadata": {
    "tags": []
   },
   "outputs": [],
   "source": [
    "%%file test.json\n",
    "\n",
    "{\n",
    " \"id\": \"0001\",\n",
    " \"type\": \"donut\",\n",
    " \"name\": \"Cake\",\n",
    " \"ppu\": 0.55,\n",
    " \"batters\":\n",
    "  {\n",
    "   \"batter\":\n",
    "    [\n",
    "     { \"id\": \"1001\", \"type\": \"Regular\" },\n",
    "     { \"id\": \"1002\", \"type\": \"Chocolate\" },\n",
    "     { \"id\": \"1003\", \"type\": \"Blueberry\" }\n",
    "    ]\n",
    "  },\n",
    " \"topping\":\n",
    "  [\n",
    "   { \"id\": \"5001\", \"type\": \"None\" },\n",
    "   { \"id\": \"5002\", \"type\": \"Glazed\" },\n",
    "   { \"id\": \"5005\", \"type\": \"Sugar\" },\n",
    "   { \"id\": \"5007\", \"type\": \"Powdered Sugar\" },\n",
    "   { \"id\": \"5006\", \"type\": \"Chocolate with Sprinkles\" },\n",
    "   { \"id\": \"5003\", \"type\": \"Chocolate\" },\n",
    "   { \"id\": \"5004\", \"type\": \"Maple\" }\n",
    "  ]\n",
    "}"
   ]
  },
  {
   "cell_type": "code",
   "execution_count": null,
   "id": "055aa905-5dcc-40d0-aaf1-6a50bdb72ab0",
   "metadata": {
    "tags": []
   },
   "outputs": [],
   "source": [
    "rawDFjson = spark.read.json(\"test.json\", multiLine = \"true\")"
   ]
  },
  {
   "cell_type": "code",
   "execution_count": null,
   "id": "0cc8322f-142d-427a-ba3e-f7c6115f770d",
   "metadata": {
    "tags": []
   },
   "outputs": [],
   "source": [
    "rawDFjson.printSchema()"
   ]
  },
  {
   "cell_type": "code",
   "execution_count": null,
   "id": "40c2678b-48e9-4a52-bc24-af4e42fd587c",
   "metadata": {
    "tags": []
   },
   "outputs": [],
   "source": [
    "sampleDF = rawDFjson.withColumnRenamed(\"id\", \"key\")"
   ]
  },
  {
   "cell_type": "code",
   "execution_count": null,
   "id": "d97db55c-463e-4ee5-a6f0-d0e9bac9762b",
   "metadata": {
    "tags": []
   },
   "outputs": [],
   "source": [
    "sampleDF.printSchema()"
   ]
  },
  {
   "cell_type": "code",
   "execution_count": null,
   "id": "802901f2-893f-4134-8842-0b21a15c1ae5",
   "metadata": {
    "tags": []
   },
   "outputs": [],
   "source": [
    "batDF = sampleDF.select(\"key\", \"batters.batter\")\n",
    "batDF.printSchema()"
   ]
  },
  {
   "cell_type": "code",
   "execution_count": null,
   "id": "d3e6f473-c7a2-4566-85d3-c47b6251fd7f",
   "metadata": {
    "tags": []
   },
   "outputs": [],
   "source": [
    "batDF.show(1, False)"
   ]
  },
  {
   "cell_type": "code",
   "execution_count": null,
   "id": "e48e334e-c5da-4829-85e3-c133b403d8c0",
   "metadata": {
    "tags": []
   },
   "outputs": [],
   "source": [
    "from pyspark.sql.functions import explode\n",
    "bat2DF = batDF.select(\"key\", explode(\"batter\").alias(\"new_batter\"))\n",
    "bat2DF.show()"
   ]
  },
  {
   "cell_type": "code",
   "execution_count": null,
   "id": "c2263cab-5ccd-42c4-a901-1af3870ffbc2",
   "metadata": {
    "tags": []
   },
   "outputs": [],
   "source": [
    "bat2DF.printSchema()"
   ]
  },
  {
   "cell_type": "code",
   "execution_count": null,
   "id": "e8b49003-1c23-4166-a694-61178c832714",
   "metadata": {
    "tags": []
   },
   "outputs": [],
   "source": [
    "bat2DF.select(\"key\", \"new_batter.*\").show()"
   ]
  },
  {
   "cell_type": "code",
   "execution_count": null,
   "id": "58ad0947-f57d-450d-9488-9416121439a3",
   "metadata": {
    "tags": []
   },
   "outputs": [],
   "source": [
    "finalBatDF = (sampleDF\n",
    "        .select(\"key\",  \n",
    "explode(\"batters.batter\").alias(\"new_batter\"))\n",
    "        .select(\"key\", \"new_batter.*\")\n",
    "        .withColumnRenamed(\"id\", \"bat_id\")\n",
    "        .withColumnRenamed(\"type\", \"bat_type\"))\n",
    "finalBatDF.show()"
   ]
  },
  {
   "cell_type": "code",
   "execution_count": null,
   "id": "c9d15ad7-f308-40b5-9cd4-343cdc89bf38",
   "metadata": {
    "tags": []
   },
   "outputs": [],
   "source": [
    "topDF = (sampleDF\n",
    "        .select(\"key\", explode(\"topping\").alias(\"new_topping\"))\n",
    "        .select(\"key\", \"new_topping.*\")\n",
    "        .withColumnRenamed(\"id\", \"top_id\")\n",
    "        .withColumnRenamed(\"type\", \"top_type\")\n",
    "        )\n",
    "topDF.show(10, False)"
   ]
  },
  {
   "cell_type": "markdown",
   "id": "cd8dd2f0-e666-45ae-b96c-9afe902068f4",
   "metadata": {},
   "source": [
    "## Eksploracyjna Analiza Danych"
   ]
  },
  {
   "cell_type": "code",
   "execution_count": null,
   "id": "d381357d-6514-4071-854d-1f9d26664b64",
   "metadata": {
    "tags": []
   },
   "outputs": [],
   "source": [
    "# zweryfikuj schemat danych\n",
    "parsed.printSchema()"
   ]
  },
  {
   "cell_type": "code",
   "execution_count": null,
   "id": "1cfa49c5-77a9-4141-9d65-b98802839819",
   "metadata": {
    "tags": []
   },
   "outputs": [],
   "source": [
    "# sprawdz wartosci dla pierwszego rzedu\n",
    "parsed.first()"
   ]
  },
  {
   "cell_type": "code",
   "execution_count": null,
   "id": "f8c5c13f-e323-429b-a990-305934b5e535",
   "metadata": {
    "tags": []
   },
   "outputs": [],
   "source": [
    "# ile przypadkow \n",
    "parsed.count()"
   ]
  },
  {
   "cell_type": "code",
   "execution_count": null,
   "id": "89429913-e699-413b-b65c-c4f6c954069b",
   "metadata": {
    "tags": []
   },
   "outputs": [],
   "source": [
    "# zapisz do pamieci na klastrze (1 maszyna) \n",
    "parsed.cache()"
   ]
  },
  {
   "cell_type": "code",
   "execution_count": null,
   "id": "d147248c-2d26-4889-a9ca-a7d804981c2b",
   "metadata": {
    "tags": []
   },
   "outputs": [],
   "source": [
    "# target \"is_match\" liczba zgodnych i niezgodnych rekordow\n",
    "from pyspark.sql.functions import col\n",
    "\n",
    "parsed.groupBy(\"is_match\").count().orderBy(col(\"count\").desc()).show()"
   ]
  },
  {
   "cell_type": "code",
   "execution_count": null,
   "id": "46f772b3-5277-410f-a767-5d05424ef293",
   "metadata": {
    "tags": []
   },
   "outputs": [],
   "source": [
    "# inne agregaty agg\n",
    "from pyspark.sql.functions import avg, stddev, stddev_pop\n",
    "\n",
    "parsed.agg(avg(\"cmp_sex\"), stddev(\"cmp_sex\"), stddev_pop(\"cmp_sex\")).show()"
   ]
  },
  {
   "cell_type": "code",
   "execution_count": null,
   "id": "a4c85b84-c0c0-4c53-8425-1c4acfbaca8e",
   "metadata": {
    "tags": []
   },
   "outputs": [],
   "source": [
    "# polecenia sql - przypisanie nazwy dla silnika sql - tabela przejsciowa\n",
    "parsed.createOrReplaceTempView(\"dane\")"
   ]
  },
  {
   "cell_type": "code",
   "execution_count": null,
   "id": "e8755985-ce9c-4112-9642-2cdcd4ad2a1e",
   "metadata": {
    "tags": []
   },
   "outputs": [],
   "source": [
    "spark.sql(\"\"\" SELECT is_match, COUNT(*) cnt FROM dane group by is_match order by cnt DESC\"\"\").show()"
   ]
  },
  {
   "cell_type": "code",
   "execution_count": null,
   "id": "759ae876-52dc-4bcb-a50c-a8f6891194e0",
   "metadata": {
    "tags": []
   },
   "outputs": [],
   "source": [
    "# zbiorcze statystyki \n",
    "summary = parsed.describe()\n",
    "summary.show()"
   ]
  },
  {
   "cell_type": "code",
   "execution_count": null,
   "id": "5bd5e87c-6758-411c-8de8-6fbb4399b9ed",
   "metadata": {
    "tags": []
   },
   "outputs": [],
   "source": [
    "summary.select(\"summary\", \"cmp_fname_c1\", \"cmp_fname_c2\").show()"
   ]
  },
  {
   "cell_type": "markdown",
   "id": "d729f99f-a5bb-49be-8aa7-4d5fa90b1107",
   "metadata": {},
   "source": [
    "> która zmienna lepiej opisze dane c1 czy c2 "
   ]
  },
  {
   "cell_type": "code",
   "execution_count": null,
   "id": "b9c8890c-2053-41d2-8b84-7198905b0cbf",
   "metadata": {
    "tags": []
   },
   "outputs": [],
   "source": [
    "# statystyki dla poszczegolnych klas\n",
    "\n",
    "# filtrowanie sql\n",
    "matches = parsed.where(\"is_match = true\")\n",
    "# filtrowanie pyspark\n",
    "misses = parsed.filter(col(\"is_match\") == False)\n",
    "\n",
    "match_summary = matches.describe()\n",
    "miss_summary = misses.describe()"
   ]
  },
  {
   "cell_type": "code",
   "execution_count": null,
   "id": "600b49ca-6b22-42ef-9761-8283d06f60cc",
   "metadata": {
    "tags": []
   },
   "outputs": [],
   "source": [
    "match_summary.show()"
   ]
  },
  {
   "cell_type": "code",
   "execution_count": null,
   "id": "4a542e7a-d26e-4c5e-877d-8dd28276e24d",
   "metadata": {
    "tags": []
   },
   "outputs": [],
   "source": [
    "miss_summary.show()"
   ]
  },
  {
   "cell_type": "markdown",
   "id": "83381456-981e-429d-8ef8-fadc253d1286",
   "metadata": {
    "tags": []
   },
   "source": [
    "## Tabele przestawne spark"
   ]
  },
  {
   "cell_type": "code",
   "execution_count": null,
   "id": "67181430-52b9-4d20-aeb0-aeca52870160",
   "metadata": {
    "tags": []
   },
   "outputs": [],
   "source": [
    "summary_p = summary.toPandas()"
   ]
  },
  {
   "cell_type": "code",
   "execution_count": null,
   "id": "66802ea5-1cb8-431e-8c2e-74ede7327d61",
   "metadata": {
    "tags": []
   },
   "outputs": [],
   "source": [
    "summary_p.head()"
   ]
  },
  {
   "cell_type": "code",
   "execution_count": null,
   "id": "e73d61b6-0092-4d85-b9bc-ec23331bbc3c",
   "metadata": {
    "tags": []
   },
   "outputs": [],
   "source": [
    "summary_p.shape"
   ]
  },
  {
   "cell_type": "code",
   "execution_count": null,
   "id": "9e3eacb6-2baa-46c0-b964-2c207b563333",
   "metadata": {
    "tags": []
   },
   "outputs": [],
   "source": [
    "summary_p = summary_p.set_index('summary').transpose().reset_index()\n",
    "summary_p = summary_p.rename(columns={'index':'field'})\n",
    "summary_p = summary_p.rename_axis(None, axis=1)"
   ]
  },
  {
   "cell_type": "code",
   "execution_count": null,
   "id": "b64008dc-0d3c-4dbd-87eb-40b4d5c89589",
   "metadata": {
    "tags": []
   },
   "outputs": [],
   "source": [
    "summaryT = spark.createDataFrame(summary_p)\n",
    "summaryT.show()"
   ]
  },
  {
   "cell_type": "code",
   "execution_count": null,
   "id": "0a6ec544-a601-45a2-8377-c751096dbbb0",
   "metadata": {
    "tags": []
   },
   "outputs": [],
   "source": [
    "summaryT.printSchema() # czy dobre typy danych ?? "
   ]
  },
  {
   "cell_type": "code",
   "execution_count": null,
   "id": "e4f4fc15-00ad-4810-92b9-15e47a52c5f7",
   "metadata": {
    "tags": []
   },
   "outputs": [],
   "source": [
    "from pyspark.sql.types import DoubleType\n",
    "\n",
    "for c in summaryT.columns:\n",
    "    if c == 'field':\n",
    "        continue\n",
    "    summaryT = summaryT.withColumn(c, summaryT[c].cast(DoubleType()))"
   ]
  },
  {
   "cell_type": "code",
   "execution_count": null,
   "id": "4895da90-8627-401c-aab5-8c54952e482d",
   "metadata": {
    "tags": []
   },
   "outputs": [],
   "source": [
    "summaryT.printSchema() # teraz lepiej"
   ]
  },
  {
   "cell_type": "code",
   "execution_count": null,
   "id": "27182754-f6e9-4dd3-9695-cfaf484e0e68",
   "metadata": {
    "tags": []
   },
   "outputs": [],
   "source": [
    "# wykonaj to samo dla tabel match i miss"
   ]
  },
  {
   "cell_type": "code",
   "execution_count": null,
   "id": "569a5119-19ae-45f7-9496-30fd3c2ddb90",
   "metadata": {
    "tags": []
   },
   "outputs": [],
   "source": [
    "def pivot_summary(desc):\n",
    "    desc_p = desc.toPandas()\n",
    "    desc_p = desc_p.set_index('summary').transpose().reset_index()\n",
    "    desc_p = desc_p.rename(columns={'index':'field'})\n",
    "    desc_p = desc_p.rename_axis(None, axis=1)\n",
    "    descT = spark.createDataFrame(desc_p)\n",
    "    for c in descT.columns:\n",
    "        if c == 'field':\n",
    "            continue\n",
    "        else:\n",
    "            descT = descT.withColumn(c, descT[c].cast(DoubleType()))\n",
    "    return descT"
   ]
  },
  {
   "cell_type": "code",
   "execution_count": null,
   "id": "65e47639-1638-488e-93b9-8336d8795a2d",
   "metadata": {
    "tags": []
   },
   "outputs": [],
   "source": [
    "match_summaryT = pivot_summary(match_summary)\n",
    "miss_summaryT = pivot_summary(miss_summary)"
   ]
  },
  {
   "cell_type": "markdown",
   "id": "01d1099c-0fa5-4103-9173-baf55e82e9c8",
   "metadata": {},
   "source": [
    "## złączenia "
   ]
  },
  {
   "cell_type": "code",
   "execution_count": null,
   "id": "5bebb104-709d-4336-ac14-0fdc4a56d2f8",
   "metadata": {
    "tags": []
   },
   "outputs": [],
   "source": [
    "match_summaryT.createOrReplaceTempView(\"match_s\")\n",
    "miss_summaryT.createOrReplaceTempView(\"miss_s\")"
   ]
  },
  {
   "cell_type": "code",
   "execution_count": null,
   "id": "72af2e16-4103-4e9c-a8aa-048faa368fe8",
   "metadata": {
    "tags": []
   },
   "outputs": [],
   "source": [
    "spark.sql(\"\"\"\n",
    "Select a.field, a.count + b.count total, a.mean - b.mean delta\n",
    "from match_s a inner join miss_s b on a.field = b.field \n",
    "where a.field not in (\"id_1\", \"id_2\")\n",
    "order by delta DESC, total DESC\n",
    "\"\"\").show()"
   ]
  },
  {
   "cell_type": "markdown",
   "id": "0277a437-d0cc-46ee-8952-38750b469cea",
   "metadata": {
    "tags": []
   },
   "source": [
    "> do modelu : `cmp_plz`, `cmp_by`, `cmp_bd`, `cmp_lname_c1`, `cmp_bm`  "
   ]
  },
  {
   "cell_type": "code",
   "execution_count": null,
   "id": "1e7b97e3-2105-465b-9058-08e301ebc13c",
   "metadata": {
    "tags": []
   },
   "outputs": [],
   "source": [
    "## score = suma zmiennych\n",
    "zmienne = ['cmp_plz','cmp_by','cmp_bd','cmp_lname_c1','cmp_bm']\n",
    "suma = \" + \".join(zmienne)"
   ]
  },
  {
   "cell_type": "code",
   "execution_count": null,
   "id": "892fed78-d456-41f2-af73-67ca86235ecf",
   "metadata": {
    "tags": []
   },
   "outputs": [],
   "source": [
    "suma"
   ]
  },
  {
   "cell_type": "code",
   "execution_count": null,
   "id": "0d22ebab-bde5-4eb2-8c88-1809e1e2fa96",
   "metadata": {
    "tags": []
   },
   "outputs": [],
   "source": [
    "from pyspark.sql.functions import expr"
   ]
  },
  {
   "cell_type": "code",
   "execution_count": null,
   "id": "f86353a4-59f6-4669-9da5-111a37b8176d",
   "metadata": {
    "tags": []
   },
   "outputs": [],
   "source": [
    "scored = parsed.fillna(0, subset=zmienne)\\\n",
    ".withColumn('score', expr(suma))\\\n",
    ".select('score','is_match')"
   ]
  },
  {
   "cell_type": "code",
   "execution_count": null,
   "id": "f1b9d3f7-7f41-4d47-9233-69a12e973342",
   "metadata": {
    "tags": []
   },
   "outputs": [],
   "source": [
    "scored.show()"
   ]
  },
  {
   "cell_type": "code",
   "execution_count": null,
   "id": "87d396a7-60b7-4436-a39a-551fe4a2e9c7",
   "metadata": {
    "tags": []
   },
   "outputs": [],
   "source": [
    "# ocena wartosci progowej\n",
    "def crossTabs(scored, t):\n",
    "    return scored.selectExpr(f\"score >= {t} as above\", \"is_match\")\\\n",
    "    .groupBy(\"above\").pivot(\"is_match\",(\"true\",\"false\"))\\\n",
    "    .count()"
   ]
  },
  {
   "cell_type": "code",
   "execution_count": null,
   "id": "9113d0cd-821b-4ddd-9d65-cf9f6b3c9bb7",
   "metadata": {
    "tags": []
   },
   "outputs": [],
   "source": [
    "crossTabs(scored, 4.0).show()"
   ]
  },
  {
   "cell_type": "code",
   "execution_count": null,
   "id": "1a2b8629-5751-4546-9463-dd024e9cd396",
   "metadata": {
    "tags": []
   },
   "outputs": [],
   "source": [
    "crossTabs(scored, 2.0).show()"
   ]
  },
  {
   "cell_type": "code",
   "execution_count": null,
   "id": "359d7129-a7ae-4f48-9104-b33555022b8e",
   "metadata": {},
   "outputs": [],
   "source": []
  }
 ],
 "metadata": {
  "kernelspec": {
   "display_name": "Python 3 (ipykernel)",
   "language": "python",
   "name": "python3"
  },
  "language_info": {
   "codemirror_mode": {
    "name": "ipython",
    "version": 3
   },
   "file_extension": ".py",
   "mimetype": "text/x-python",
   "name": "python",
   "nbconvert_exporter": "python",
   "pygments_lexer": "ipython3",
   "version": "3.11.5"
  }
 },
 "nbformat": 4,
 "nbformat_minor": 5
}
